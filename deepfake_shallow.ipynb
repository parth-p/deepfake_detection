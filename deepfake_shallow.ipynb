{
 "cells": [
  {
   "cell_type": "markdown",
   "metadata": {},
   "source": [
    "Implementation of Shallow network\n",
    "* First separate the frames from video for both positive and negative examples\n",
    "* Now use VGG16 network to get feature vector for each time frame\n",
    "* Now using features for time, we will flatten it and apply a dense layer to get output of 2 for possitive or negative.\n",
    "* Insted of dense layer, LSTM layer can also be used"
   ]
  },
  {
   "cell_type": "code",
   "execution_count": null,
   "metadata": {},
   "outputs": [],
   "source": [
    "import cv2\n",
    "from keras.applications.vgg16 import VGG16\n",
    "from keras.preprocessing.image import ImageDataGenerator\n",
    "from keras import optimizers\n",
    "from keras.models import Sequential\n",
    "from keras.layers import Dropout, Flatten, Dense"
   ]
  },
  {
   "cell_type": "markdown",
   "metadata": {},
   "source": [
    "Converting videos to frames"
   ]
  },
  {
   "cell_type": "code",
   "execution_count": null,
   "metadata": {
    "collapsed": true
   },
   "outputs": [],
   "source": [
    "path = './data/video.mp4'\n",
    "vc = cv2.VideoCapture(path)\n",
    "rval = True\n",
    "count = 0\n",
    "name_no = 0\n",
    "while rval:\n",
    "    rval, frame = vc.read()\n",
    "    count += 1\n",
    "    if count >= 0 & count < 500:\n",
    "        if (count % 3 == 0):\n",
    "            name_no += 1\n",
    "            # frame = frame[100:350, :]\n",
    "            cv2.imwrite('image/' + str(name_no) + '.png', frame)\n",
    "vc.release()"
   ]
  },
  {
   "cell_type": "code",
   "execution_count": null,
   "metadata": {
    "collapsed": true
   },
   "outputs": [],
   "source": [
    "train_dir = './data/train'\n",
    "validation_dir = './data/validation'\n",
    "img_width, img_height = 224, 224"
   ]
  },
  {
   "cell_type": "code",
   "execution_count": null,
   "metadata": {},
   "outputs": [],
   "source": [
    "model = VGG16(weights=None, include_top=False, input_shape=(None, 224, 224))\n",
    "top_model = Sequential()\n",
    "for layer in model.layers:\n",
    "    top_model.add(layer)"
   ]
  },
  {
   "cell_type": "code",
   "execution_count": null,
   "metadata": {
    "collapsed": true
   },
   "outputs": [],
   "source": [
    "top_model.add(Flatten(input_shape=model.output_shape[1:]))\n",
    "top_model.add(Dense(256, activation='relu'))\n",
    "# top_model.add(LSTM(256, dropout_U = 0.2, dropout_W = 0.2))\n",
    "top_model.add(Dropout(0.5))\n",
    "top_model.add(Dense(2, activation='softmax', name='predictions'))\n",
    "\n",
    "top_model.compile(loss=loss_function,\n",
    "              optimizer=optimizers.SGD(lr=learning_rate, momentum=momentum, \n",
    "                          decay=1e-6, nesterov=True),metrics=[metrics])\n",
    "\n",
    "train_datagen = ImageDataGenerator(rescale=1. / 255,shear_range=0.2,zoom_range=0.2,horizontal_flip=True)\n",
    "test_datagen = ImageDataGenerator(rescale=1. / 255)\n",
    "\n",
    "train_generator = train_datagen.flow_from_directory(train_data_dir, target_size=(img_height, img_width),\n",
    "                                                    batch_size=batch_size,class_mode='categorical')\n",
    "\n",
    "validation_generator = test_datagen.flow_from_directory(validation_data_dir,target_size=(img_height, img_width),\n",
    "                                                        batch_size=batch_size,class_mode='categorical')\n",
    "\n",
    "history = top_model.fit_generator(train_generator, samples_per_epoch=nb_train_samples, epochs=epochs,\n",
    "                                validation_data=validation_generator, validation_steps=nb_validation_samples/batch_size,\n",
    "                                  verbose=1, callbacks=[time_callback])\n",
    "\n",
    "top_model.save(path_to_save_model)"
   ]
  }
 ],
 "metadata": {
  "kernelspec": {
   "display_name": "Python 3",
   "language": "python",
   "name": "python3"
  },
  "language_info": {
   "codemirror_mode": {
    "name": "ipython",
    "version": 3
   },
   "file_extension": ".py",
   "mimetype": "text/x-python",
   "name": "python",
   "nbconvert_exporter": "python",
   "pygments_lexer": "ipython3",
   "version": "3.6.3"
  }
 },
 "nbformat": 4,
 "nbformat_minor": 2
}
